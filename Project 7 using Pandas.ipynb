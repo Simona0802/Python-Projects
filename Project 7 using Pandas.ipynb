{
 "cells": [
  {
   "cell_type": "markdown",
   "metadata": {},
   "source": [
    "# Pandas Basics"
   ]
  },
  {
   "cell_type": "markdown",
   "metadata": {},
   "source": [
    "Import Pandas"
   ]
  },
  {
   "cell_type": "code",
   "execution_count": 1,
   "metadata": {},
   "outputs": [],
   "source": [
    "import pandas as pd "
   ]
  },
  {
   "cell_type": "markdown",
   "metadata": {},
   "source": [
    "Read the csv file into variable **df_books** and print the first 6 rows"
   ]
  },
  {
   "cell_type": "code",
   "execution_count": 2,
   "metadata": {},
   "outputs": [
    {
     "data": {
      "text/html": [
       "<div>\n",
       "<style scoped>\n",
       "    .dataframe tbody tr th:only-of-type {\n",
       "        vertical-align: middle;\n",
       "    }\n",
       "\n",
       "    .dataframe tbody tr th {\n",
       "        vertical-align: top;\n",
       "    }\n",
       "\n",
       "    .dataframe thead th {\n",
       "        text-align: right;\n",
       "    }\n",
       "</style>\n",
       "<table border=\"1\" class=\"dataframe\">\n",
       "  <thead>\n",
       "    <tr style=\"text-align: right;\">\n",
       "      <th></th>\n",
       "      <th>Country</th>\n",
       "      <th>Code</th>\n",
       "      <th>Year</th>\n",
       "      <th>Book_titles</th>\n",
       "    </tr>\n",
       "  </thead>\n",
       "  <tbody>\n",
       "    <tr>\n",
       "      <th>0</th>\n",
       "      <td>Belgium</td>\n",
       "      <td>BEL</td>\n",
       "      <td>1500</td>\n",
       "      <td>25.6</td>\n",
       "    </tr>\n",
       "    <tr>\n",
       "      <th>1</th>\n",
       "      <td>France</td>\n",
       "      <td>FRA</td>\n",
       "      <td>1500</td>\n",
       "      <td>351.764.705.882.353</td>\n",
       "    </tr>\n",
       "    <tr>\n",
       "      <th>2</th>\n",
       "      <td>Germany</td>\n",
       "      <td>DEU</td>\n",
       "      <td>1500</td>\n",
       "      <td>4.523.809.523.809.520</td>\n",
       "    </tr>\n",
       "    <tr>\n",
       "      <th>3</th>\n",
       "      <td>Ireland</td>\n",
       "      <td>IRL</td>\n",
       "      <td>1500</td>\n",
       "      <td>0</td>\n",
       "    </tr>\n",
       "    <tr>\n",
       "      <th>4</th>\n",
       "      <td>Italy</td>\n",
       "      <td>ITA</td>\n",
       "      <td>1500</td>\n",
       "      <td>6.530.000.000.000.000</td>\n",
       "    </tr>\n",
       "    <tr>\n",
       "      <th>5</th>\n",
       "      <td>Netherlands</td>\n",
       "      <td>NLD</td>\n",
       "      <td>1500</td>\n",
       "      <td>39.545.798.803.578.200</td>\n",
       "    </tr>\n",
       "  </tbody>\n",
       "</table>\n",
       "</div>"
      ],
      "text/plain": [
       "       Country Code  Year             Book_titles\n",
       "0      Belgium  BEL  1500                    25.6\n",
       "1       France  FRA  1500     351.764.705.882.353\n",
       "2      Germany  DEU  1500   4.523.809.523.809.520\n",
       "3      Ireland  IRL  1500                       0\n",
       "4        Italy  ITA  1500   6.530.000.000.000.000\n",
       "5  Netherlands  NLD  1500  39.545.798.803.578.200"
      ]
     },
     "execution_count": 2,
     "metadata": {},
     "output_type": "execute_result"
    }
   ],
   "source": [
    "df_books = pd.read_csv('books.csv')\n",
    "df_books.head(6)"
   ]
  },
  {
   "cell_type": "markdown",
   "metadata": {},
   "source": [
    "Select and display only the contries and booktitles"
   ]
  },
  {
   "cell_type": "code",
   "execution_count": 3,
   "metadata": {},
   "outputs": [
    {
     "name": "stdout",
     "output_type": "stream",
     "text": [
      "             Country             Book_titles\n",
      "0            Belgium                    25.6\n",
      "1             France     351.764.705.882.353\n",
      "2            Germany   4.523.809.523.809.520\n",
      "3            Ireland                       0\n",
      "4              Italy   6.530.000.000.000.000\n",
      "...              ...                     ...\n",
      "8307          Norway  32.767.646.427.805.100\n",
      "8308          Russia   8.984.884.202.847.490\n",
      "8309          Sweden  25.044.150.110.375.200\n",
      "8310     Switzerland  14.604.155.707.522.300\n",
      "8311  United Kingdom  21.148.528.136.403.000\n",
      "\n",
      "[8312 rows x 2 columns]\n"
     ]
    }
   ],
   "source": [
    "select_columns = df_books[['Country', 'Book_titles']]\n",
    "print(select_columns)"
   ]
  },
  {
   "cell_type": "markdown",
   "metadata": {},
   "source": [
    "Filter only the data where Country is North Macedonia"
   ]
  },
  {
   "cell_type": "code",
   "execution_count": 4,
   "metadata": {},
   "outputs": [
    {
     "name": "stdout",
     "output_type": "stream",
     "text": [
      "              Country Code  Year             Book_titles\n",
      "7925  North Macedonia  MKD  1990  30.031.788.567.612.600\n",
      "8102  North Macedonia  MKD  1994  34.728.071.961.526.200\n",
      "8148  North Macedonia  MKD  1995   4.529.059.675.094.980\n",
      "8194  North Macedonia  MKD  1996     452.538.732.140.701\n"
     ]
    }
   ],
   "source": [
    "filter_df = df_books[df_books['Country'] == 'North Macedonia']\n",
    "print(filter_df)"
   ]
  },
  {
   "cell_type": "markdown",
   "metadata": {},
   "source": [
    "Filter only the data for the countries Germany, Spain, France, United Stated and year is after 1990"
   ]
  },
  {
   "cell_type": "code",
   "execution_count": 6,
   "metadata": {},
   "outputs": [
    {
     "name": "stdout",
     "output_type": "stream",
     "text": [
      "            Country Code  Year             Book_titles\n",
      "7960         France  FRA  1991   7.465.221.998.154.280\n",
      "7961        Germany  DEU  1991   8.487.921.696.178.060\n",
      "7983          Spain  ESP  1991   9.903.850.895.576.020\n",
      "7990  United States  USA  1991  18.993.066.631.244.700\n",
      "8003         France  FRA  1992     770.978.100.205.576\n",
      "8004        Germany  DEU  1992   8.347.253.901.485.400\n",
      "8027          Spain  ESP  1992  10.573.095.880.654.400\n",
      "8036  United States  USA  1992   1.918.143.816.012.900\n",
      "8048         France  FRA  1993   6.968.851.932.599.840\n",
      "8049        Germany  DEU  1993   8.283.510.167.199.550\n",
      "8067          Spain  ESP  1993  10.285.259.104.976.500\n",
      "8075  United States  USA  1993   1.911.853.094.187.280\n",
      "8089         France  FRA  1994   7.622.339.978.131.040\n",
      "8090        Germany  DEU  1994   8.676.991.389.360.700\n",
      "8112          Spain  ESP  1994  11.151.402.670.395.700\n",
      "8119  United States  USA  1994  19.687.159.073.554.900\n",
      "8133         France  FRA  1995   5.822.280.278.670.950\n",
      "8134        Germany  DEU  1995   9.083.972.702.180.720\n",
      "8157          Spain  ESP  1995   1.219.304.339.666.330\n",
      "8164  United States  USA  1995   2.327.418.856.773.160\n",
      "8178         France  FRA  1996   8.189.760.090.695.380\n",
      "8179        Germany  DEU  1996   8.732.985.408.459.300\n",
      "8204          Spain  ESP  1996  11.639.583.719.445.600\n",
      "8212  United States  USA  1996  25.281.143.466.100.400\n"
     ]
    }
   ],
   "source": [
    "filtered_df = df_books[\n",
    "    (df_books['Country'].isin(['Germany', 'Spain', 'France', 'United States'])) &\n",
    "    (df_books['Year'] > 1990)\n",
    "]\n",
    "print(filtered_df)"
   ]
  },
  {
   "cell_type": "markdown",
   "metadata": {},
   "source": [
    "Select only the countries and codes, save them in a new dataframe. Write the dataframe into a new csv file"
   ]
  },
  {
   "cell_type": "code",
   "execution_count": 7,
   "metadata": {},
   "outputs": [],
   "source": [
    "new_df = df_books[['Country', 'Code']]\n",
    "new_df.to_csv('countries_and_codes.csv', index=False)"
   ]
  },
  {
   "cell_type": "markdown",
   "metadata": {},
   "source": [
    "### Bonus\n",
    "Filter the countries that contain the string \"an\" in their name and write it to a csv file"
   ]
  },
  {
   "cell_type": "code",
   "execution_count": 8,
   "metadata": {},
   "outputs": [],
   "source": [
    "filtered_df = df_books[df_books['Country'].str.contains('an', case=False, na=False)]\n",
    "filtered_df.to_csv('filtered_countries.csv', index=False)"
   ]
  }
 ],
 "metadata": {
  "kernelspec": {
   "display_name": "Python 3",
   "language": "python",
   "name": "python3"
  },
  "language_info": {
   "codemirror_mode": {
    "name": "ipython",
    "version": 3
   },
   "file_extension": ".py",
   "mimetype": "text/x-python",
   "name": "python",
   "nbconvert_exporter": "python",
   "pygments_lexer": "ipython3",
   "version": "3.13.0"
  }
 },
 "nbformat": 4,
 "nbformat_minor": 2
}
